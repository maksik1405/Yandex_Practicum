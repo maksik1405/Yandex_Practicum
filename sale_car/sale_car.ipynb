{
 "cells": [
 
  {
   "cell_type": "markdown",
   "metadata": {},
   "source": [
    "# 1. Подготовка данных"
   ]
  },
  {
   "cell_type": "code",
   "execution_count": 1,
   "metadata": {},
   "outputs": [],
   "source": [
    "#импорт необходимых библиотек\n",
    "import pandas as pd \n",
    "import numpy as np\n",
    "from sklearn.linear_model import LinearRegression\n",
    "from sklearn.model_selection import train_test_split\n",
    "from sklearn.metrics import mean_squared_error\n",
    "from numpy.random import RandomState\n",
    "import matplotlib.pyplot as plt\n",
    "from scipy.stats import skewnorm\n",
    "from sklearn.metrics import mean_absolute_error\n",
    "from sklearn.ensemble import RandomForestClassifier\n",
    "from sklearn.linear_model import LogisticRegression\n",
    "from sklearn.ensemble import RandomForestRegressor\n",
    "from sklearn.model_selection import GridSearchCV\n",
    "from sklearn.tree import DecisionTreeClassifier\n",
    "from sklearn.tree import DecisionTreeRegressor\n",
    "from sklearn.preprocessing import StandardScaler\n",
    "from sklearn.model_selection import cross_val_score\n",
    "from sklearn.metrics import fbeta_score, make_scorer\n",
    "from sklearn.preprocessing import OrdinalEncoder\n",
    "from catboost import CatBoostRegressor\n",
    "from lightgbm import LGBMRegressor\n",
    "import time\n"
   ]
  },
  {
   "cell_type": "code",
   "execution_count": 2,
   "metadata": {},
   "outputs": [],
   "source": [
    "#загрузка данных\n",
    "data = pd.read_csv('/datasets/autos.csv')"
   ]
  },
  {
   "cell_type": "code",
   "execution_count": 3,
   "metadata": {},
   "outputs": [],
   "source": [
    "#приведение название столбцов к нижнему регистру\n",
    "data.columns = data.columns.str.lower()"
   ]
  },
  {
   "cell_type": "code",
   "execution_count": 4,
   "metadata": {},
   "outputs": [],
   "source": [
    "#удаляем лишние столбцы из данных\n",
    "data = data.drop(['datecrawled', 'registrationmonth', 'datecreated', 'numberofpictures', 'postalcode', 'lastseen'], axis=1)"
   ]
  },
  {
   "cell_type": "code",
   "execution_count": 5,
   "metadata": {},
   "outputs": [],
   "source": [
    "#удаляем строки где цена меньше 200 и кол-во л/с меньше 30\n",
    "data = data.drop(np.where(data['price'] < 200)[0]).reset_index()\n",
    "data = data.drop(np.where(data['power'] <= 30)[0]).reset_index()"
   ]
  },
  {
   "cell_type": "code",
   "execution_count": 6,
   "metadata": {},
   "outputs": [],
   "source": [
    "data = data.drop(['index', 'level_0'], axis = 1)"
   ]
  },
  {
   "cell_type": "code",
   "execution_count": 7,
   "metadata": {},
   "outputs": [],
   "source": [
    "#удаляем строки где кол-во л/с больше 500\n",
    "data = data.drop(np.where(data['power'] > 500)[0]).reset_index()"
   ]
  },
  {
   "cell_type": "code",
   "execution_count": 8,
   "metadata": {},
   "outputs": [],
   "source": [
    "#удаляем строки где дата выпуска автомобиля раньше 1910 года\n",
    "data = data.drop(np.where(data['registrationyear'] < 1910)[0]).reset_index()"
   ]
  },
  {
   "cell_type": "code",
   "execution_count": 9,
   "metadata": {},
   "outputs": [],
   "source": [
    "#удаляем строки где дата выпуска автомобиля больше 2018 года\n",
    "data = data.drop(np.where(data['registrationyear'] > 2018)[0])"
   ]
  },
  {
   "cell_type": "code",
   "execution_count": 10,
   "metadata": {},
   "outputs": [],
   "source": [
    "data = data.drop(['index', 'level_0'], axis = 1)"
   ]
  },
  {
   "cell_type": "code",
   "execution_count": 11,
   "metadata": {},
   "outputs": [],
   "source": [
    "#удаляем столбец с пробегом автомобиля\n",
    "data = data.drop(['kilometer'], axis = 1)"
   ]
  },
  {
   "cell_type": "code",
   "execution_count": 12,
   "metadata": {},
   "outputs": [
    {
     "data": {
      "text/html": [
       "<div>\n",
       "<style scoped>\n",
       "    .dataframe tbody tr th:only-of-type {\n",
       "        vertical-align: middle;\n",
       "    }\n",
       "\n",
       "    .dataframe tbody tr th {\n",
       "        vertical-align: top;\n",
       "    }\n",
       "\n",
       "    .dataframe thead th {\n",
       "        text-align: right;\n",
       "    }\n",
       "</style>\n",
       "<table border=\"1\" class=\"dataframe\">\n",
       "  <thead>\n",
       "    <tr style=\"text-align: right;\">\n",
       "      <th></th>\n",
       "      <th>price</th>\n",
       "      <th>vehicletype</th>\n",
       "      <th>registrationyear</th>\n",
       "      <th>gearbox</th>\n",
       "      <th>power</th>\n",
       "      <th>model</th>\n",
       "      <th>fueltype</th>\n",
       "      <th>brand</th>\n",
       "      <th>notrepaired</th>\n",
       "    </tr>\n",
       "  </thead>\n",
       "  <tbody>\n",
       "    <tr>\n",
       "      <td>0</td>\n",
       "      <td>18300</td>\n",
       "      <td>coupe</td>\n",
       "      <td>2011</td>\n",
       "      <td>manual</td>\n",
       "      <td>190</td>\n",
       "      <td>NaN</td>\n",
       "      <td>gasoline</td>\n",
       "      <td>audi</td>\n",
       "      <td>yes</td>\n",
       "    </tr>\n",
       "    <tr>\n",
       "      <td>1</td>\n",
       "      <td>9800</td>\n",
       "      <td>suv</td>\n",
       "      <td>2004</td>\n",
       "      <td>auto</td>\n",
       "      <td>163</td>\n",
       "      <td>grand</td>\n",
       "      <td>gasoline</td>\n",
       "      <td>jeep</td>\n",
       "      <td>NaN</td>\n",
       "    </tr>\n",
       "    <tr>\n",
       "      <td>2</td>\n",
       "      <td>1500</td>\n",
       "      <td>small</td>\n",
       "      <td>2001</td>\n",
       "      <td>manual</td>\n",
       "      <td>75</td>\n",
       "      <td>golf</td>\n",
       "      <td>petrol</td>\n",
       "      <td>volkswagen</td>\n",
       "      <td>no</td>\n",
       "    </tr>\n",
       "    <tr>\n",
       "      <td>3</td>\n",
       "      <td>3600</td>\n",
       "      <td>small</td>\n",
       "      <td>2008</td>\n",
       "      <td>manual</td>\n",
       "      <td>69</td>\n",
       "      <td>fabia</td>\n",
       "      <td>gasoline</td>\n",
       "      <td>skoda</td>\n",
       "      <td>no</td>\n",
       "    </tr>\n",
       "    <tr>\n",
       "      <td>4</td>\n",
       "      <td>650</td>\n",
       "      <td>sedan</td>\n",
       "      <td>1995</td>\n",
       "      <td>manual</td>\n",
       "      <td>102</td>\n",
       "      <td>3er</td>\n",
       "      <td>petrol</td>\n",
       "      <td>bmw</td>\n",
       "      <td>yes</td>\n",
       "    </tr>\n",
       "    <tr>\n",
       "      <td>5</td>\n",
       "      <td>2200</td>\n",
       "      <td>convertible</td>\n",
       "      <td>2004</td>\n",
       "      <td>manual</td>\n",
       "      <td>109</td>\n",
       "      <td>2_reihe</td>\n",
       "      <td>petrol</td>\n",
       "      <td>peugeot</td>\n",
       "      <td>no</td>\n",
       "    </tr>\n",
       "    <tr>\n",
       "      <td>6</td>\n",
       "      <td>14500</td>\n",
       "      <td>bus</td>\n",
       "      <td>2014</td>\n",
       "      <td>manual</td>\n",
       "      <td>125</td>\n",
       "      <td>c_max</td>\n",
       "      <td>petrol</td>\n",
       "      <td>ford</td>\n",
       "      <td>NaN</td>\n",
       "    </tr>\n",
       "    <tr>\n",
       "      <td>7</td>\n",
       "      <td>999</td>\n",
       "      <td>small</td>\n",
       "      <td>1998</td>\n",
       "      <td>manual</td>\n",
       "      <td>101</td>\n",
       "      <td>golf</td>\n",
       "      <td>NaN</td>\n",
       "      <td>volkswagen</td>\n",
       "      <td>NaN</td>\n",
       "    </tr>\n",
       "    <tr>\n",
       "      <td>8</td>\n",
       "      <td>2000</td>\n",
       "      <td>sedan</td>\n",
       "      <td>2004</td>\n",
       "      <td>manual</td>\n",
       "      <td>105</td>\n",
       "      <td>3_reihe</td>\n",
       "      <td>petrol</td>\n",
       "      <td>mazda</td>\n",
       "      <td>no</td>\n",
       "    </tr>\n",
       "    <tr>\n",
       "      <td>9</td>\n",
       "      <td>2799</td>\n",
       "      <td>wagon</td>\n",
       "      <td>2005</td>\n",
       "      <td>manual</td>\n",
       "      <td>140</td>\n",
       "      <td>passat</td>\n",
       "      <td>gasoline</td>\n",
       "      <td>volkswagen</td>\n",
       "      <td>yes</td>\n",
       "    </tr>\n",
       "  </tbody>\n",
       "</table>\n",
       "</div>"
      ],
      "text/plain": [
       "   price  vehicletype  registrationyear gearbox  power    model  fueltype  \\\n",
       "0  18300        coupe              2011  manual    190      NaN  gasoline   \n",
       "1   9800          suv              2004    auto    163    grand  gasoline   \n",
       "2   1500        small              2001  manual     75     golf    petrol   \n",
       "3   3600        small              2008  manual     69    fabia  gasoline   \n",
       "4    650        sedan              1995  manual    102      3er    petrol   \n",
       "5   2200  convertible              2004  manual    109  2_reihe    petrol   \n",
       "6  14500          bus              2014  manual    125    c_max    petrol   \n",
       "7    999        small              1998  manual    101     golf       NaN   \n",
       "8   2000        sedan              2004  manual    105  3_reihe    petrol   \n",
       "9   2799        wagon              2005  manual    140   passat  gasoline   \n",
       "\n",
       "        brand notrepaired  \n",
       "0        audi         yes  \n",
       "1        jeep         NaN  \n",
       "2  volkswagen          no  \n",
       "3       skoda          no  \n",
       "4         bmw         yes  \n",
       "5     peugeot          no  \n",
       "6        ford         NaN  \n",
       "7  volkswagen         NaN  \n",
       "8       mazda          no  \n",
       "9  volkswagen         yes  "
      ]
     },
     "metadata": {},
     "output_type": "display_data"
    }
   ],
   "source": [
    "display(data.head(10))"
   ]
  },
  {
   "cell_type": "code",
   "execution_count": 13,
   "metadata": {},
   "outputs": [],
   "source": [
    "data = data.fillna('unknown')"
   ]
  },
  {
   "cell_type": "code",
   "execution_count": 14,
   "metadata": {},
   "outputs": [
    {
     "name": "stdout",
     "output_type": "stream",
     "text": [
      "<class 'pandas.core.frame.DataFrame'>\n",
      "Int64Index: 301964 entries, 0 to 301989\n",
      "Data columns (total 9 columns):\n",
      "price               301964 non-null int64\n",
      "vehicletype         301964 non-null object\n",
      "registrationyear    301964 non-null int64\n",
      "gearbox             301964 non-null object\n",
      "power               301964 non-null int64\n",
      "model               301964 non-null object\n",
      "fueltype            301964 non-null object\n",
      "brand               301964 non-null object\n",
      "notrepaired         301964 non-null object\n",
      "dtypes: int64(3), object(6)\n",
      "memory usage: 23.0+ MB\n"
     ]
    }
   ],
   "source": [
    "data.info()"
   ]
  },
  {
   "cell_type": "code",
   "execution_count": 15,
   "metadata": {},
   "outputs": [
    {
     "name": "stdout",
     "output_type": "stream",
     "text": [
      "price               0\n",
      "vehicletype         0\n",
      "registrationyear    0\n",
      "gearbox             0\n",
      "power               0\n",
      "model               0\n",
      "fueltype            0\n",
      "brand               0\n",
      "notrepaired         0\n",
      "dtype: int64\n"
     ]
    }
   ],
   "source": [
    "#проверка наличия пропусков в данных\n",
    "print(data.isna().sum())"
   ]
  },
  {
   "cell_type": "markdown",
   "metadata": {},
   "source": [
    "### Выводы. Шаг 1\n",
    "1) При первичном анализе были выявлены столбцы, которые малоинформативны для обучения модели, данные столбцы были удалены: 'datecrawled', 'registrationmonth', 'datecreated', 'numberofpictures', 'postalcode', 'lastseen'   \n",
    "2) При анализе данных были выявлены ошибочные показатели в некоторых столбцах, показатели типа \"цена = 0, кол-во л/с больше 1000, год выпуска автомобиля 5000 год\". Строки были удалены по следующим критериям: цена меньше 200 долларов, кол-во л/с меньше 30 и больше 500, год регистрации автомобиля меньше 1910 и больше 2018 года.   \n",
    "3) При более детальном разборе столбца 'kilometer', выяснилось что большинство значений в столбце больше 150к километров - скорей всего столбец заполнен некоректными данными, что может в последствии повлиять на модель - было принято решение удалить данный столбец.  \n",
    "4) После выполнения первых трех пунктов в таблице сохранились пропущенные значения в столбцах: 'vehicletype', 'gearbox', 'model', 'fueltype', 'notrepaired' - заполнить их, к сожалению, нечем.   "
   ]
  },
  {
   "cell_type": "markdown",
   "metadata": {},
   "source": [
    "# 2. Обучение моделей"
   ]
  },
  {
   "cell_type": "code",
   "execution_count": 16,
   "metadata": {},
   "outputs": [],
   "source": [
    "encoder = OrdinalEncoder()\n",
    "data[[\"vehicletype\", \"gearbox\", \"model\", \"fueltype\", \"brand\", \"notrepaired\"]] = encoder.fit_transform(data[[\"vehicletype\", \"gearbox\", \"model\", \"fueltype\", \"brand\", \"notrepaired\"]])"
   ]
  },
  {
   "cell_type": "code",
   "execution_count": 17,
   "metadata": {
    "scrolled": true
   },
   "outputs": [
    {
     "data": {
      "text/html": [
       "<div>\n",
       "<style scoped>\n",
       "    .dataframe tbody tr th:only-of-type {\n",
       "        vertical-align: middle;\n",
       "    }\n",
       "\n",
       "    .dataframe tbody tr th {\n",
       "        vertical-align: top;\n",
       "    }\n",
       "\n",
       "    .dataframe thead th {\n",
       "        text-align: right;\n",
       "    }\n",
       "</style>\n",
       "<table border=\"1\" class=\"dataframe\">\n",
       "  <thead>\n",
       "    <tr style=\"text-align: right;\">\n",
       "      <th></th>\n",
       "      <th>price</th>\n",
       "      <th>vehicletype</th>\n",
       "      <th>registrationyear</th>\n",
       "      <th>gearbox</th>\n",
       "      <th>power</th>\n",
       "      <th>model</th>\n",
       "      <th>fueltype</th>\n",
       "      <th>brand</th>\n",
       "      <th>notrepaired</th>\n",
       "    </tr>\n",
       "  </thead>\n",
       "  <tbody>\n",
       "    <tr>\n",
       "      <td>0</td>\n",
       "      <td>18300</td>\n",
       "      <td>2.0</td>\n",
       "      <td>2011</td>\n",
       "      <td>1.0</td>\n",
       "      <td>190</td>\n",
       "      <td>227.0</td>\n",
       "      <td>2.0</td>\n",
       "      <td>1.0</td>\n",
       "      <td>2.0</td>\n",
       "    </tr>\n",
       "    <tr>\n",
       "      <td>1</td>\n",
       "      <td>9800</td>\n",
       "      <td>6.0</td>\n",
       "      <td>2004</td>\n",
       "      <td>0.0</td>\n",
       "      <td>163</td>\n",
       "      <td>117.0</td>\n",
       "      <td>2.0</td>\n",
       "      <td>14.0</td>\n",
       "      <td>1.0</td>\n",
       "    </tr>\n",
       "    <tr>\n",
       "      <td>2</td>\n",
       "      <td>1500</td>\n",
       "      <td>5.0</td>\n",
       "      <td>2001</td>\n",
       "      <td>1.0</td>\n",
       "      <td>75</td>\n",
       "      <td>116.0</td>\n",
       "      <td>6.0</td>\n",
       "      <td>38.0</td>\n",
       "      <td>0.0</td>\n",
       "    </tr>\n",
       "    <tr>\n",
       "      <td>3</td>\n",
       "      <td>3600</td>\n",
       "      <td>5.0</td>\n",
       "      <td>2008</td>\n",
       "      <td>1.0</td>\n",
       "      <td>69</td>\n",
       "      <td>101.0</td>\n",
       "      <td>2.0</td>\n",
       "      <td>31.0</td>\n",
       "      <td>0.0</td>\n",
       "    </tr>\n",
       "    <tr>\n",
       "      <td>4</td>\n",
       "      <td>650</td>\n",
       "      <td>4.0</td>\n",
       "      <td>1995</td>\n",
       "      <td>1.0</td>\n",
       "      <td>102</td>\n",
       "      <td>11.0</td>\n",
       "      <td>6.0</td>\n",
       "      <td>2.0</td>\n",
       "      <td>2.0</td>\n",
       "    </tr>\n",
       "    <tr>\n",
       "      <td>5</td>\n",
       "      <td>2200</td>\n",
       "      <td>1.0</td>\n",
       "      <td>2004</td>\n",
       "      <td>1.0</td>\n",
       "      <td>109</td>\n",
       "      <td>8.0</td>\n",
       "      <td>6.0</td>\n",
       "      <td>25.0</td>\n",
       "      <td>0.0</td>\n",
       "    </tr>\n",
       "    <tr>\n",
       "      <td>6</td>\n",
       "      <td>14500</td>\n",
       "      <td>0.0</td>\n",
       "      <td>2014</td>\n",
       "      <td>1.0</td>\n",
       "      <td>125</td>\n",
       "      <td>60.0</td>\n",
       "      <td>6.0</td>\n",
       "      <td>10.0</td>\n",
       "      <td>1.0</td>\n",
       "    </tr>\n",
       "    <tr>\n",
       "      <td>7</td>\n",
       "      <td>999</td>\n",
       "      <td>5.0</td>\n",
       "      <td>1998</td>\n",
       "      <td>1.0</td>\n",
       "      <td>101</td>\n",
       "      <td>116.0</td>\n",
       "      <td>7.0</td>\n",
       "      <td>38.0</td>\n",
       "      <td>1.0</td>\n",
       "    </tr>\n",
       "    <tr>\n",
       "      <td>8</td>\n",
       "      <td>2000</td>\n",
       "      <td>4.0</td>\n",
       "      <td>2004</td>\n",
       "      <td>1.0</td>\n",
       "      <td>105</td>\n",
       "      <td>10.0</td>\n",
       "      <td>6.0</td>\n",
       "      <td>19.0</td>\n",
       "      <td>0.0</td>\n",
       "    </tr>\n",
       "    <tr>\n",
       "      <td>9</td>\n",
       "      <td>2799</td>\n",
       "      <td>8.0</td>\n",
       "      <td>2005</td>\n",
       "      <td>1.0</td>\n",
       "      <td>140</td>\n",
       "      <td>170.0</td>\n",
       "      <td>2.0</td>\n",
       "      <td>38.0</td>\n",
       "      <td>2.0</td>\n",
       "    </tr>\n",
       "  </tbody>\n",
       "</table>\n",
       "</div>"
      ],
      "text/plain": [
       "   price  vehicletype  registrationyear  gearbox  power  model  fueltype  \\\n",
       "0  18300          2.0              2011      1.0    190  227.0       2.0   \n",
       "1   9800          6.0              2004      0.0    163  117.0       2.0   \n",
       "2   1500          5.0              2001      1.0     75  116.0       6.0   \n",
       "3   3600          5.0              2008      1.0     69  101.0       2.0   \n",
       "4    650          4.0              1995      1.0    102   11.0       6.0   \n",
       "5   2200          1.0              2004      1.0    109    8.0       6.0   \n",
       "6  14500          0.0              2014      1.0    125   60.0       6.0   \n",
       "7    999          5.0              1998      1.0    101  116.0       7.0   \n",
       "8   2000          4.0              2004      1.0    105   10.0       6.0   \n",
       "9   2799          8.0              2005      1.0    140  170.0       2.0   \n",
       "\n",
       "   brand  notrepaired  \n",
       "0    1.0          2.0  \n",
       "1   14.0          1.0  \n",
       "2   38.0          0.0  \n",
       "3   31.0          0.0  \n",
       "4    2.0          2.0  \n",
       "5   25.0          0.0  \n",
       "6   10.0          1.0  \n",
       "7   38.0          1.0  \n",
       "8   19.0          0.0  \n",
       "9   38.0          2.0  "
      ]
     },
     "metadata": {},
     "output_type": "display_data"
    }
   ],
   "source": [
    "display(data.head(10))"
   ]
  },
  {
   "cell_type": "code",
   "execution_count": 18,
   "metadata": {},
   "outputs": [],
   "source": [
    "#подготовка валидационной и обучающей выборки\n",
    "data_train, data_valid = train_test_split(data, test_size=0.25, random_state=12345)\n",
    "features_train = data_train.drop(['price'], axis=1)\n",
    "target_train = data_train['price']\n",
    "features_valid = data_valid.drop(['price'], axis=1)\n",
    "target_valid = data_valid['price']"
   ]
  },
  {
   "cell_type": "code",
   "execution_count": 19,
   "metadata": {},
   "outputs": [],
   "source": [
    "def RMSE(y_true,y_pred):\n",
    "    mse = mean_squared_error(y_true, y_pred)\n",
    "    rmse = mse ** 0.5\n",
    "    return rmse"
   ]
  },
  {
   "cell_type": "code",
   "execution_count": 20,
   "metadata": {},
   "outputs": [],
   "source": [
    "#определение критерия по оценки модели\n",
    "my_scorer = make_scorer(RMSE, greater_is_better=True)"
   ]
  },
  {
   "cell_type": "code",
   "execution_count": 21,
   "metadata": {},
   "outputs": [],
   "source": [
    "#определение гипепараметров для модели \"случайный лес\"\n",
    "model_for = RandomForestRegressor()\n",
    "\n",
    "#parametrs = {'max_depth': range(1,4), 'n_estimators': range(1, 21, 5)}\n",
    "#grid_search = GridSearchCV(model_for, parametrs, cv=3, scoring = my_scorer)\n",
    "#grid_search.fit(features_train, target_train)\n",
    "#grid_search.best_params_"
   ]
  },
  {
   "cell_type": "code",
   "execution_count": 22,
   "metadata": {},
   "outputs": [],
   "source": [
    "#определение гипепараметров для модели \"дерево решений\"\n",
    "model_tree = DecisionTreeRegressor()\n",
    "\n",
    "#parametrs = {'max_depth': range(1,4), 'min_samples_split': range(2, 8, 2)}\n",
    "#grid_search = GridSearchCV(model_tree, parametrs, cv=3, scoring = my_scorer)\n",
    "#grid_search.fit(features_train, target_train)\n",
    "#grid_search.best_params_"
   ]
  },
  {
   "cell_type": "code",
   "execution_count": 23,
   "metadata": {},
   "outputs": [],
   "source": [
    "#определение гипепараметров для модели \"LGB\"\n",
    "model_lgb = LGBMRegressor(boosting_type ='gbdt')\n",
    "\n",
    "#parametrs = {'max_depth': range(1,3), 'num_leaves': range(31, 93, 31)}\n",
    "#grid_search = GridSearchCV(model_lgb, parametrs, cv=3, scoring = my_scorer)\n",
    "#grid_search.fit(features_train, target_train)\n",
    "#grid_search.best_params_"
   ]
  },
  {
   "cell_type": "markdown",
   "metadata": {},
   "source": [
    "# 3. Анализ моделей"
   ]
  },
  {
   "cell_type": "code",
   "execution_count": 24,
   "metadata": {},
   "outputs": [
    {
     "name": "stderr",
     "output_type": "stream",
     "text": [
      "/opt/conda/lib/python3.7/site-packages/ipykernel_launcher.py:1: DeprecationWarning: time.clock has been deprecated in Python 3.3 and will be removed from Python 3.8: use time.perf_counter or time.process_time instead\n",
      "  \"\"\"Entry point for launching an IPython kernel.\n"
     ]
    },
    {
     "name": "stdout",
     "output_type": "stream",
     "text": [
      "Значение RMSE для случайного леса (обучающие данные) 3011.39\n",
      "Время обучения модели: 3.42 секунды\n"
     ]
    },
    {
     "name": "stderr",
     "output_type": "stream",
     "text": [
      "/opt/conda/lib/python3.7/site-packages/ipykernel_launcher.py:8: DeprecationWarning: time.clock has been deprecated in Python 3.3 and will be removed from Python 3.8: use time.perf_counter or time.process_time instead\n",
      "  \n"
     ]
    }
   ],
   "source": [
    "start_time_for_val = time.clock()\n",
    "\n",
    "#обучение модели \"Случайный лес\"\n",
    "model_for = RandomForestRegressor(max_depth=3, n_estimators=16)\n",
    "cross_for = cross_val_score(model_for, features_train, target_train, cv=3, scoring = my_scorer)\n",
    "print('Значение RMSE для случайного леса (обучающие данные)', \"%.2f\" % cross_for.mean())\n",
    "\n",
    "time_for_val = time.clock() - start_time_for_val\n",
    "print (\"Время обучения модели:\", \"%.2f\" % time_for_val, \"секунды\")"
   ]
  },
  {
   "cell_type": "code",
   "execution_count": 25,
   "metadata": {},
   "outputs": [
    {
     "name": "stderr",
     "output_type": "stream",
     "text": [
      "/opt/conda/lib/python3.7/site-packages/ipykernel_launcher.py:1: DeprecationWarning: time.clock has been deprecated in Python 3.3 and will be removed from Python 3.8: use time.perf_counter or time.process_time instead\n",
      "  \"\"\"Entry point for launching an IPython kernel.\n"
     ]
    },
    {
     "name": "stdout",
     "output_type": "stream",
     "text": [
      "Значение RMSE для случайного леса (валидационные данные) 3025.28\n",
      "Время предсказания модели: 1.72 секунды\n"
     ]
    },
    {
     "name": "stderr",
     "output_type": "stream",
     "text": [
      "/opt/conda/lib/python3.7/site-packages/ipykernel_launcher.py:8: DeprecationWarning: time.clock has been deprecated in Python 3.3 and will be removed from Python 3.8: use time.perf_counter or time.process_time instead\n",
      "  \n"
     ]
    }
   ],
   "source": [
    "start_time_for_pre = time.clock()\n",
    "\n",
    "#предсказание модели \"Случайный лес\"\n",
    "model_for.fit(features_train, target_train)\n",
    "predict_for = model_for.predict(features_valid)\n",
    "print('Значение RMSE для случайного леса (валидационные данные)', \"%.2f\" % RMSE(predict_for, target_valid))\n",
    "\n",
    "time_for_pre = time.clock() - start_time_for_pre\n",
    "print (\"Время предсказания модели:\", \"%.2f\" % time_for_pre, \"секунды\")"
   ]
  },
  {
   "cell_type": "code",
   "execution_count": 26,
   "metadata": {},
   "outputs": [
    {
     "name": "stdout",
     "output_type": "stream",
     "text": [
      "Значение RMSE для дерева решений (обучающие данные) 3761.88\n",
      "Время обучения модели: 0.18 секунды\n"
     ]
    },
    {
     "name": "stderr",
     "output_type": "stream",
     "text": [
      "/opt/conda/lib/python3.7/site-packages/ipykernel_launcher.py:1: DeprecationWarning: time.clock has been deprecated in Python 3.3 and will be removed from Python 3.8: use time.perf_counter or time.process_time instead\n",
      "  \"\"\"Entry point for launching an IPython kernel.\n",
      "/opt/conda/lib/python3.7/site-packages/ipykernel_launcher.py:8: DeprecationWarning: time.clock has been deprecated in Python 3.3 and will be removed from Python 3.8: use time.perf_counter or time.process_time instead\n",
      "  \n"
     ]
    }
   ],
   "source": [
    "start_time_tree_val = time.clock()\n",
    "\n",
    "#обучение модели \"Дерево решений\"\n",
    "model_tree = DecisionTreeRegressor(max_depth=1, min_samples_split=2)\n",
    "cross_tree = cross_val_score(model_tree, features_train, target_train, cv=3, scoring = my_scorer)\n",
    "print('Значение RMSE для дерева решений (обучающие данные)', \"%.2f\" % cross_tree.mean())\n",
    "\n",
    "time_tree_val = time.clock() - start_time_tree_val\n",
    "print (\"Время обучения модели:\",\"%.2f\" % time_tree_val, \"секунды\")"
   ]
  },
  {
   "cell_type": "code",
   "execution_count": 27,
   "metadata": {},
   "outputs": [
    {
     "name": "stderr",
     "output_type": "stream",
     "text": [
      "/opt/conda/lib/python3.7/site-packages/ipykernel_launcher.py:1: DeprecationWarning: time.clock has been deprecated in Python 3.3 and will be removed from Python 3.8: use time.perf_counter or time.process_time instead\n",
      "  \"\"\"Entry point for launching an IPython kernel.\n"
     ]
    },
    {
     "name": "stdout",
     "output_type": "stream",
     "text": [
      "Значение RMSE для случайного леса (валидационные данные) 3760.37\n",
      "Время предсказания модели: 0.07 секунды\n"
     ]
    },
    {
     "name": "stderr",
     "output_type": "stream",
     "text": [
      "/opt/conda/lib/python3.7/site-packages/ipykernel_launcher.py:8: DeprecationWarning: time.clock has been deprecated in Python 3.3 and will be removed from Python 3.8: use time.perf_counter or time.process_time instead\n",
      "  \n"
     ]
    }
   ],
   "source": [
    "start_time_tree_pre = time.clock()\n",
    "\n",
    "#предсказание модели \"Дерево решений\"\n",
    "model_tree.fit(features_train, target_train)\n",
    "predict_tree = model_tree.predict(features_valid)\n",
    "print('Значение RMSE для случайного леса (валидационные данные)', \"%.2f\" % RMSE(predict_tree, target_valid))\n",
    "\n",
    "time_tree_pre = time.clock() - start_time_tree_pre\n",
    "print (\"Время предсказания модели:\", \"%.2f\" % time_tree_pre, \"секунды\")"
   ]
  },
  {
   "cell_type": "code",
   "execution_count": 28,
   "metadata": {},
   "outputs": [
    {
     "name": "stderr",
     "output_type": "stream",
     "text": [
      "/opt/conda/lib/python3.7/site-packages/ipykernel_launcher.py:1: DeprecationWarning: time.clock has been deprecated in Python 3.3 and will be removed from Python 3.8: use time.perf_counter or time.process_time instead\n",
      "  \"\"\"Entry point for launching an IPython kernel.\n"
     ]
    },
    {
     "name": "stdout",
     "output_type": "stream",
     "text": [
      "Значение RMSE для линейной регрессии (обучающие данные) 3317.65\n",
      "Время обучения модели: 0.54 секунды\n"
     ]
    },
    {
     "name": "stderr",
     "output_type": "stream",
     "text": [
      "/opt/conda/lib/python3.7/site-packages/ipykernel_launcher.py:8: DeprecationWarning: time.clock has been deprecated in Python 3.3 and will be removed from Python 3.8: use time.perf_counter or time.process_time instead\n",
      "  \n"
     ]
    }
   ],
   "source": [
    "start_time_log_val = time.clock()\n",
    "\n",
    "#обучение модели \"Линейная регрессия\"\n",
    "model_log = LinearRegression()\n",
    "cross_log = cross_val_score(model_log, features_train, target_train, cv=3, scoring = my_scorer)\n",
    "print('Значение RMSE для линейной регрессии (обучающие данные)', \"%.2f\" % cross_log.mean())\n",
    "\n",
    "time_log_val = time.clock() - start_time_log_val\n",
    "print (\"Время обучения модели:\",\"%.2f\" % time_log_val, \"секунды\")"
   ]
  },
  {
   "cell_type": "code",
   "execution_count": 29,
   "metadata": {},
   "outputs": [
    {
     "name": "stderr",
     "output_type": "stream",
     "text": [
      "/opt/conda/lib/python3.7/site-packages/ipykernel_launcher.py:1: DeprecationWarning: time.clock has been deprecated in Python 3.3 and will be removed from Python 3.8: use time.perf_counter or time.process_time instead\n",
      "  \"\"\"Entry point for launching an IPython kernel.\n"
     ]
    },
    {
     "name": "stdout",
     "output_type": "stream",
     "text": [
      "Значение RMSE для линейной регрессии (валидационные данные) 3334.06\n",
      "Время предсказания модели: 0.17 секунды\n"
     ]
    },
    {
     "name": "stderr",
     "output_type": "stream",
     "text": [
      "/opt/conda/lib/python3.7/site-packages/ipykernel_launcher.py:8: DeprecationWarning: time.clock has been deprecated in Python 3.3 and will be removed from Python 3.8: use time.perf_counter or time.process_time instead\n",
      "  \n"
     ]
    }
   ],
   "source": [
    "start_time_log_pre = time.clock()\n",
    "\n",
    "#предсказания модели \"Линейная регрессия\"\n",
    "model_log.fit(features_train, target_train)\n",
    "predict_log = model_log.predict(features_valid)\n",
    "print('Значение RMSE для линейной регрессии (валидационные данные)', \"%.2f\" % RMSE(predict_log, target_valid))\n",
    "\n",
    "time_log_pre = time.clock() - start_time_log_pre\n",
    "print (\"Время предсказания модели:\", \"%.2f\" % time_log_pre, \"секунды\")"
   ]
  },
  {
   "cell_type": "code",
   "execution_count": 30,
   "metadata": {},
   "outputs": [
    {
     "name": "stderr",
     "output_type": "stream",
     "text": [
      "/opt/conda/lib/python3.7/site-packages/ipykernel_launcher.py:1: DeprecationWarning: time.clock has been deprecated in Python 3.3 and will be removed from Python 3.8: use time.perf_counter or time.process_time instead\n",
      "  \"\"\"Entry point for launching an IPython kernel.\n"
     ]
    },
    {
     "name": "stdout",
     "output_type": "stream",
     "text": [
      "0:\tlearn: 4485.1441981\ttotal: 218ms\tremaining: 218ms\n",
      "1:\tlearn: 4391.1591278\ttotal: 413ms\tremaining: 0us\n",
      "0:\tlearn: 4489.6762165\ttotal: 113ms\tremaining: 113ms\n",
      "1:\tlearn: 4395.9404419\ttotal: 311ms\tremaining: 0us\n",
      "0:\tlearn: 4490.3281367\ttotal: 121ms\tremaining: 121ms\n",
      "1:\tlearn: 4396.5935982\ttotal: 309ms\tremaining: 0us\n",
      "Значение RMSE для catboost (обучающие данные) 4394.78\n",
      "Время обучения модели: 2.11 секунды\n"
     ]
    },
    {
     "name": "stderr",
     "output_type": "stream",
     "text": [
      "/opt/conda/lib/python3.7/site-packages/ipykernel_launcher.py:8: DeprecationWarning: time.clock has been deprecated in Python 3.3 and will be removed from Python 3.8: use time.perf_counter or time.process_time instead\n",
      "  \n"
     ]
    }
   ],
   "source": [
    "start_time_cat_val = time.clock()\n",
    "\n",
    "#обучение модели \"CatBoost\"\n",
    "model_cat = CatBoostRegressor(iterations=2, depth=10, loss_function='RMSE')\n",
    "cross_cat = cross_val_score(model_cat, features_train, target_train, cv=3, scoring = my_scorer)\n",
    "print('Значение RMSE для catboost (обучающие данные)', \"%.2f\" % cross_cat.mean())\n",
    "\n",
    "time_cat_val = time.clock() - start_time_cat_val\n",
    "print (\"Время обучения модели:\",\"%.2f\" % time_cat_val, \"секунды\")"
   ]
  },
  {
   "cell_type": "code",
   "execution_count": 31,
   "metadata": {},
   "outputs": [
    {
     "name": "stderr",
     "output_type": "stream",
     "text": [
      "/opt/conda/lib/python3.7/site-packages/ipykernel_launcher.py:1: DeprecationWarning: time.clock has been deprecated in Python 3.3 and will be removed from Python 3.8: use time.perf_counter or time.process_time instead\n",
      "  \"\"\"Entry point for launching an IPython kernel.\n"
     ]
    },
    {
     "name": "stdout",
     "output_type": "stream",
     "text": [
      "0:\tlearn: 4488.6358072\ttotal: 191ms\tremaining: 191ms\n",
      "1:\tlearn: 4394.2983003\ttotal: 481ms\tremaining: 0us\n",
      "Значение RMSE для catboost (валидационные данные) 4389.82\n",
      "Время предсказания модели: 0.98 секунды\n"
     ]
    },
    {
     "name": "stderr",
     "output_type": "stream",
     "text": [
      "/opt/conda/lib/python3.7/site-packages/ipykernel_launcher.py:8: DeprecationWarning: time.clock has been deprecated in Python 3.3 and will be removed from Python 3.8: use time.perf_counter or time.process_time instead\n",
      "  \n"
     ]
    }
   ],
   "source": [
    "start_time_cat_pre = time.clock()\n",
    "\n",
    "#предсказание модели \"CatBoost\"\n",
    "model_cat.fit(features_train, target_train)\n",
    "predict_cat = model_cat.predict(features_valid)\n",
    "print('Значение RMSE для catboost (валидационные данные)', \"%.2f\" % RMSE(predict_cat, target_valid))\n",
    "\n",
    "time_cat_pre = time.clock() - start_time_cat_pre\n",
    "print(\"Время предсказания модели:\", \"%.2f\" % time_cat_pre, \"секунды\")"
   ]
  },
  {
   "cell_type": "code",
   "execution_count": 32,
   "metadata": {},
   "outputs": [
    {
     "name": "stderr",
     "output_type": "stream",
     "text": [
      "/opt/conda/lib/python3.7/site-packages/ipykernel_launcher.py:1: DeprecationWarning: time.clock has been deprecated in Python 3.3 and will be removed from Python 3.8: use time.perf_counter or time.process_time instead\n",
      "  \"\"\"Entry point for launching an IPython kernel.\n"
     ]
    },
    {
     "name": "stdout",
     "output_type": "stream",
     "text": [
      "Значение RMSE для LGB (обучающие данные) 2565.54\n",
      "Время обучения модели: 7.50 секунды\n"
     ]
    },
    {
     "name": "stderr",
     "output_type": "stream",
     "text": [
      "/opt/conda/lib/python3.7/site-packages/ipykernel_launcher.py:8: DeprecationWarning: time.clock has been deprecated in Python 3.3 and will be removed from Python 3.8: use time.perf_counter or time.process_time instead\n",
      "  \n"
     ]
    }
   ],
   "source": [
    "start_time_lgb_val = time.clock()\n",
    "\n",
    "#обучение модели \"LGB\"\n",
    "model_lgb = LGBMRegressor(boosting_type ='gbdt', max_depth=1, num_leaves=31)\n",
    "cross_lgb = cross_val_score(model_lgb, features_train, target_train, cv=3, scoring = my_scorer)\n",
    "print('Значение RMSE для LGB (обучающие данные)', \"%.2f\" % cross_lgb.mean())\n",
    "\n",
    "time_lgb_val = time.clock() - start_time_lgb_val\n",
    "print (\"Время обучения модели:\",\"%.2f\" % time_lgb_val, \"секунды\")"
   ]
  },
  {
   "cell_type": "code",
   "execution_count": 33,
   "metadata": {},
   "outputs": [
    {
     "name": "stderr",
     "output_type": "stream",
     "text": [
      "/opt/conda/lib/python3.7/site-packages/ipykernel_launcher.py:1: DeprecationWarning: time.clock has been deprecated in Python 3.3 and will be removed from Python 3.8: use time.perf_counter or time.process_time instead\n",
      "  \"\"\"Entry point for launching an IPython kernel.\n"
     ]
    },
    {
     "name": "stdout",
     "output_type": "stream",
     "text": [
      "Значение RMSE для LGB (валидационные данные) 2583.74\n",
      "Время предсказания модели: 3.94 секунды\n"
     ]
    },
    {
     "name": "stderr",
     "output_type": "stream",
     "text": [
      "/opt/conda/lib/python3.7/site-packages/ipykernel_launcher.py:8: DeprecationWarning: time.clock has been deprecated in Python 3.3 and will be removed from Python 3.8: use time.perf_counter or time.process_time instead\n",
      "  \n"
     ]
    }
   ],
   "source": [
    "start_time_lgb_pre = time.clock()\n",
    "\n",
    "#предсказания модели \"LGB\"\n",
    "model_lgb.fit(features_train, target_train)\n",
    "predict_lgb = model_lgb.predict(features_valid)\n",
    "print('Значение RMSE для LGB (валидационные данные)', \"%.2f\" % RMSE(predict_lgb, target_valid))\n",
    "\n",
    "time_lgb_pre = time.clock() - start_time_lgb_pre\n",
    "print (\"Время предсказания модели:\", \"%.2f\" % time_lgb_pre, \"секунды\")"
   ]
  },
  {
   "cell_type": "code",
   "execution_count": 34,
   "metadata": {
    "scrolled": false
   },
   "outputs": [
    {
     "data": {
      "text/html": [
       "<div>\n",
       "<style scoped>\n",
       "    .dataframe tbody tr th:only-of-type {\n",
       "        vertical-align: middle;\n",
       "    }\n",
       "\n",
       "    .dataframe tbody tr th {\n",
       "        vertical-align: top;\n",
       "    }\n",
       "\n",
       "    .dataframe thead th {\n",
       "        text-align: right;\n",
       "    }\n",
       "</style>\n",
       "<table border=\"1\" class=\"dataframe\">\n",
       "  <thead>\n",
       "    <tr style=\"text-align: right;\">\n",
       "      <th></th>\n",
       "      <th>Результаты RMSE</th>\n",
       "      <th>Время обучения в секундах</th>\n",
       "      <th>Время предсказания в секундах</th>\n",
       "    </tr>\n",
       "  </thead>\n",
       "  <tbody>\n",
       "    <tr>\n",
       "      <td>Случайный лес</td>\n",
       "      <td>3025.282117</td>\n",
       "      <td>3.422768</td>\n",
       "      <td>1.722094</td>\n",
       "    </tr>\n",
       "    <tr>\n",
       "      <td>Дерево решений</td>\n",
       "      <td>3760.374369</td>\n",
       "      <td>0.177299</td>\n",
       "      <td>0.068503</td>\n",
       "    </tr>\n",
       "    <tr>\n",
       "      <td>Линейная регрессия</td>\n",
       "      <td>3334.060101</td>\n",
       "      <td>0.537838</td>\n",
       "      <td>0.167970</td>\n",
       "    </tr>\n",
       "    <tr>\n",
       "      <td>CatBoost</td>\n",
       "      <td>4389.816948</td>\n",
       "      <td>2.108125</td>\n",
       "      <td>0.977959</td>\n",
       "    </tr>\n",
       "    <tr>\n",
       "      <td>LGB</td>\n",
       "      <td>2583.738656</td>\n",
       "      <td>7.496357</td>\n",
       "      <td>3.936358</td>\n",
       "    </tr>\n",
       "  </tbody>\n",
       "</table>\n",
       "</div>"
      ],
      "text/plain": [
       "                    Результаты RMSE  Время обучения в секундах  \\\n",
       "Случайный лес           3025.282117                   3.422768   \n",
       "Дерево решений          3760.374369                   0.177299   \n",
       "Линейная регрессия      3334.060101                   0.537838   \n",
       "CatBoost                4389.816948                   2.108125   \n",
       "LGB                     2583.738656                   7.496357   \n",
       "\n",
       "                    Время предсказания в секундах  \n",
       "Случайный лес                            1.722094  \n",
       "Дерево решений                           0.068503  \n",
       "Линейная регрессия                       0.167970  \n",
       "CatBoost                                 0.977959  \n",
       "LGB                                      3.936358  "
      ]
     },
     "metadata": {},
     "output_type": "display_data"
    }
   ],
   "source": [
    "#таблица с общими результатами\n",
    "ml = ['Случайный лес', 'Дерево решений', 'Линейная регрессия', 'CatBoost', 'LGB']\n",
    "data = {\n",
    "  'Результаты RMSE': [RMSE(predict_for, target_valid), RMSE(predict_tree, target_valid), RMSE(predict_log, target_valid), RMSE(predict_cat, target_valid), RMSE(predict_lgb, target_valid)],\n",
    "  'Время обучения в секундах':  [time_for_val, time_tree_val, time_log_val, time_cat_val, time_lgb_val],\n",
    "  'Время предсказания в секундах':  [time_for_pre, time_tree_pre, time_log_pre, time_cat_pre, time_lgb_pre]\n",
    "}\n",
    "data_ml = pd.DataFrame(data=data, index=ml)\n",
    "display(data_ml)"
   ]
  },
  {
   "cell_type": "markdown",
   "metadata": {},
   "source": [
    "### Выводы. Шаг 3\n",
    "1) Выводы получились очень даже интересные: самая быстрой моделью оказалась - Дерево решений (и по времени обучения и по времени предсказания), но по качеству она внизу. Самой качественной оказалась - LGB, но по зато по скорости она в самом низу (и по времени обучения и по времени предсказания).    \n",
    "2) Получается при обучение моделью необходимо чем либо жертвовать? скорость или качеством?) - ревьюер сможете подсказать?)   \n",
    "3) На шаге 2, оставил коды по подбору наилучшей модели закомментированными, так как степик ложится когда все это оставляешь). "
   ]
  }
 ],
 "metadata": {
  "kernelspec": {
   "display_name": "Python 3",
   "language": "python",
   "name": "python3"
  },
  "language_info": {
   "codemirror_mode": {
    "name": "ipython",
    "version": 3
   },
   "file_extension": ".py",
   "mimetype": "text/x-python",
   "name": "python",
   "nbconvert_exporter": "python",
   "pygments_lexer": "ipython3",
   "version": "3.7.8"
  },
  "toc": {
   "base_numbering": 1,
   "nav_menu": {},
   "number_sections": true,
   "sideBar": true,
   "skip_h1_title": true,
   "title_cell": "Table of Contents",
   "title_sidebar": "Contents",
   "toc_cell": false,
   "toc_position": {},
   "toc_section_display": true,
   "toc_window_display": false
  }
 },
 "nbformat": 4,
 "nbformat_minor": 2
}
