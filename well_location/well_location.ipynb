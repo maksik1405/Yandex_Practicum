https://nbviewer.jupyter.org/github/maksik1405/Yandex_Practicum/blob/main/well_location/well_location.ipynb
